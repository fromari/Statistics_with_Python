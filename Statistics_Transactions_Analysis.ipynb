{
 "cells": [
  {
   "attachments": {},
   "cell_type": "markdown",
   "id": "3b966271",
   "metadata": {
    "nbgrader": {
     "cell_type": "markdown",
     "checksum": "454bbdf6a1ad261cfbadbc014c24f861",
     "grade": false,
     "grade_id": "cell-369809025cbfb1e4",
     "locked": true,
     "schema_version": 3,
     "solution": false,
     "task": false
    }
   },
   "source": [
    "# Statistics - Transactions Analysis in a Retail Chain\n",
    "\n",
    "\n",
    "You are hired by some retail company to analyse transaction statistics in a retail chain.\n",
    "\n",
    "### Data\n",
    "\n",
    "There are three datasets: `customers.csv`, `purchases.csv` and `shops.csv`. They are stored in `data` folder.\n",
    "\n",
    "`customers.csv` contains information about each customer registered in loyalty program.\n",
    "\n",
    "`shops.csv` contains information about shops and special offers they organized. One shap can organize several offers and therefore there are usually several rows that correspond to the same shops. However, some shops do not organize special offers at all, but they are presented in this table nevertheless.\n",
    "\n",
    "`purchases.csv` is a purchase log. It contains information for all customers, either registered in a loyalty program (in this case we know the corresponding customer id) or not registered. One purchase can be a collection of several items, but we see only the total price of everything bought."
   ]
  },
  {
   "cell_type": "code",
   "execution_count": 35,
   "id": "08197527",
   "metadata": {},
   "outputs": [],
   "source": [
    "import pandas as pd\n",
    "import matplotlib.pyplot as plt\n",
    "\n",
    "%matplotlib inline"
   ]
  },
  {
   "cell_type": "code",
   "execution_count": 36,
   "id": "16c60f2e",
   "metadata": {},
   "outputs": [],
   "source": [
    "customers = pd.read_csv('https://github.com/mbburova/MDS/raw/main/customers.csv', sep = ',')\n",
    "purchases = pd.read_csv('https://github.com/mbburova/MDS/raw/main/purchases.csv', sep = ',')\n",
    "shops = pd.read_csv('https://github.com/mbburova/MDS/raw/main/shops.csv')"
   ]
  },
  {
   "cell_type": "markdown",
   "id": "5bbe0a1c",
   "metadata": {
    "deletable": false,
    "nbgrader": {
     "cell_type": "markdown",
     "checksum": "0603220371fdbcb9e545525cad325284",
     "grade": false,
     "grade_id": "cell-277368782ff4455f",
     "locked": true,
     "schema_version": 3,
     "solution": false,
     "task": false
    }
   },
   "source": [
    "1. What is the type of variable `customer_id` in the dataset `purchases`?\n",
    "2. What is the type of variable `age` in the dataset `customers`?"
   ]
  },
  {
   "cell_type": "code",
   "execution_count": 39,
   "id": "cf37149f",
   "metadata": {},
   "outputs": [
    {
     "data": {
      "text/html": [
       "<div>\n",
       "<style scoped>\n",
       "    .dataframe tbody tr th:only-of-type {\n",
       "        vertical-align: middle;\n",
       "    }\n",
       "\n",
       "    .dataframe tbody tr th {\n",
       "        vertical-align: top;\n",
       "    }\n",
       "\n",
       "    .dataframe thead th {\n",
       "        text-align: right;\n",
       "    }\n",
       "</style>\n",
       "<table border=\"1\" class=\"dataframe\">\n",
       "  <thead>\n",
       "    <tr style=\"text-align: right;\">\n",
       "      <th></th>\n",
       "      <th>customer_id</th>\n",
       "      <th>date</th>\n",
       "      <th>shop_id</th>\n",
       "      <th>total_price</th>\n",
       "    </tr>\n",
       "  </thead>\n",
       "  <tbody>\n",
       "    <tr>\n",
       "      <th>0</th>\n",
       "      <td>0.0</td>\n",
       "      <td>2018-05-04</td>\n",
       "      <td>40</td>\n",
       "      <td>289.673291</td>\n",
       "    </tr>\n",
       "    <tr>\n",
       "      <th>1</th>\n",
       "      <td>0.0</td>\n",
       "      <td>2019-01-26</td>\n",
       "      <td>40</td>\n",
       "      <td>1316.898901</td>\n",
       "    </tr>\n",
       "    <tr>\n",
       "      <th>2</th>\n",
       "      <td>0.0</td>\n",
       "      <td>2018-11-18</td>\n",
       "      <td>42</td>\n",
       "      <td>159.414367</td>\n",
       "    </tr>\n",
       "    <tr>\n",
       "      <th>3</th>\n",
       "      <td>0.0</td>\n",
       "      <td>2018-05-12</td>\n",
       "      <td>42</td>\n",
       "      <td>808.791649</td>\n",
       "    </tr>\n",
       "    <tr>\n",
       "      <th>4</th>\n",
       "      <td>0.0</td>\n",
       "      <td>2019-04-20</td>\n",
       "      <td>42</td>\n",
       "      <td>1207.855038</td>\n",
       "    </tr>\n",
       "  </tbody>\n",
       "</table>\n",
       "</div>"
      ],
      "text/plain": [
       "   customer_id        date  shop_id  total_price\n",
       "0          0.0  2018-05-04       40   289.673291\n",
       "1          0.0  2019-01-26       40  1316.898901\n",
       "2          0.0  2018-11-18       42   159.414367\n",
       "3          0.0  2018-05-12       42   808.791649\n",
       "4          0.0  2019-04-20       42  1207.855038"
      ]
     },
     "execution_count": 39,
     "metadata": {},
     "output_type": "execute_result"
    }
   ],
   "source": [
    "purchases.head()"
   ]
  },
  {
   "cell_type": "code",
   "execution_count": 37,
   "id": "d561230b",
   "metadata": {},
   "outputs": [
    {
     "data": {
      "text/plain": [
       "'float64'"
      ]
     },
     "execution_count": 37,
     "metadata": {},
     "output_type": "execute_result"
    }
   ],
   "source": [
    "purchases['customer_id'].dtype.name # categorical"
   ]
  },
  {
   "cell_type": "code",
   "execution_count": 38,
   "id": "4a8457f3",
   "metadata": {},
   "outputs": [
    {
     "data": {
      "text/plain": [
       "'float64'"
      ]
     },
     "execution_count": 38,
     "metadata": {},
     "output_type": "execute_result"
    }
   ],
   "source": [
    "customers['age'].dtype.name # numerical"
   ]
  },
  {
   "cell_type": "markdown",
   "id": "daf262b6",
   "metadata": {
    "deletable": false,
    "nbgrader": {
     "cell_type": "markdown",
     "checksum": "0ef9904ad2af29fd7de47254b703429e",
     "grade": false,
     "grade_id": "cell-27d72da45a2d686e",
     "locked": true,
     "schema_version": 3,
     "solution": false,
     "task": false
    }
   },
   "source": [
    "Let us consider column `total_price` in the dataset `purchases`. May we assume that this column is an i.i.d. sample from some random variable?\n"
   ]
  },
  {
   "cell_type": "code",
   "execution_count": 41,
   "id": "53fed7b7",
   "metadata": {},
   "outputs": [
    {
     "data": {
      "text/html": [
       "<div>\n",
       "<style scoped>\n",
       "    .dataframe tbody tr th:only-of-type {\n",
       "        vertical-align: middle;\n",
       "    }\n",
       "\n",
       "    .dataframe tbody tr th {\n",
       "        vertical-align: top;\n",
       "    }\n",
       "\n",
       "    .dataframe thead th {\n",
       "        text-align: right;\n",
       "    }\n",
       "</style>\n",
       "<table border=\"1\" class=\"dataframe\">\n",
       "  <thead>\n",
       "    <tr style=\"text-align: right;\">\n",
       "      <th></th>\n",
       "      <th>customer_id</th>\n",
       "      <th>date</th>\n",
       "      <th>shop_id</th>\n",
       "      <th>total_price</th>\n",
       "    </tr>\n",
       "  </thead>\n",
       "  <tbody>\n",
       "    <tr>\n",
       "      <th>0</th>\n",
       "      <td>0.0</td>\n",
       "      <td>2018-05-04</td>\n",
       "      <td>40</td>\n",
       "      <td>289.673291</td>\n",
       "    </tr>\n",
       "    <tr>\n",
       "      <th>1</th>\n",
       "      <td>0.0</td>\n",
       "      <td>2019-01-26</td>\n",
       "      <td>40</td>\n",
       "      <td>1316.898901</td>\n",
       "    </tr>\n",
       "    <tr>\n",
       "      <th>2</th>\n",
       "      <td>0.0</td>\n",
       "      <td>2018-11-18</td>\n",
       "      <td>42</td>\n",
       "      <td>159.414367</td>\n",
       "    </tr>\n",
       "    <tr>\n",
       "      <th>3</th>\n",
       "      <td>0.0</td>\n",
       "      <td>2018-05-12</td>\n",
       "      <td>42</td>\n",
       "      <td>808.791649</td>\n",
       "    </tr>\n",
       "    <tr>\n",
       "      <th>4</th>\n",
       "      <td>0.0</td>\n",
       "      <td>2019-04-20</td>\n",
       "      <td>42</td>\n",
       "      <td>1207.855038</td>\n",
       "    </tr>\n",
       "    <tr>\n",
       "      <th>5</th>\n",
       "      <td>0.0</td>\n",
       "      <td>2018-11-24</td>\n",
       "      <td>42</td>\n",
       "      <td>1057.752024</td>\n",
       "    </tr>\n",
       "    <tr>\n",
       "      <th>6</th>\n",
       "      <td>0.0</td>\n",
       "      <td>2018-07-28</td>\n",
       "      <td>15</td>\n",
       "      <td>896.895694</td>\n",
       "    </tr>\n",
       "    <tr>\n",
       "      <th>7</th>\n",
       "      <td>0.0</td>\n",
       "      <td>2019-06-01</td>\n",
       "      <td>40</td>\n",
       "      <td>341.922336</td>\n",
       "    </tr>\n",
       "    <tr>\n",
       "      <th>8</th>\n",
       "      <td>0.0</td>\n",
       "      <td>2019-03-13</td>\n",
       "      <td>42</td>\n",
       "      <td>69.240631</td>\n",
       "    </tr>\n",
       "    <tr>\n",
       "      <th>9</th>\n",
       "      <td>0.0</td>\n",
       "      <td>2018-12-22</td>\n",
       "      <td>40</td>\n",
       "      <td>936.012095</td>\n",
       "    </tr>\n",
       "    <tr>\n",
       "      <th>10</th>\n",
       "      <td>0.0</td>\n",
       "      <td>2018-06-24</td>\n",
       "      <td>40</td>\n",
       "      <td>1005.693540</td>\n",
       "    </tr>\n",
       "    <tr>\n",
       "      <th>11</th>\n",
       "      <td>0.0</td>\n",
       "      <td>2019-01-12</td>\n",
       "      <td>15</td>\n",
       "      <td>485.700295</td>\n",
       "    </tr>\n",
       "    <tr>\n",
       "      <th>12</th>\n",
       "      <td>0.0</td>\n",
       "      <td>2018-11-04</td>\n",
       "      <td>15</td>\n",
       "      <td>434.191410</td>\n",
       "    </tr>\n",
       "    <tr>\n",
       "      <th>13</th>\n",
       "      <td>0.0</td>\n",
       "      <td>2018-06-08</td>\n",
       "      <td>42</td>\n",
       "      <td>351.165885</td>\n",
       "    </tr>\n",
       "    <tr>\n",
       "      <th>14</th>\n",
       "      <td>0.0</td>\n",
       "      <td>2019-03-16</td>\n",
       "      <td>15</td>\n",
       "      <td>1131.041328</td>\n",
       "    </tr>\n",
       "    <tr>\n",
       "      <th>15</th>\n",
       "      <td>0.0</td>\n",
       "      <td>2018-06-20</td>\n",
       "      <td>15</td>\n",
       "      <td>181.441359</td>\n",
       "    </tr>\n",
       "    <tr>\n",
       "      <th>16</th>\n",
       "      <td>0.0</td>\n",
       "      <td>2018-09-23</td>\n",
       "      <td>15</td>\n",
       "      <td>1227.620941</td>\n",
       "    </tr>\n",
       "    <tr>\n",
       "      <th>17</th>\n",
       "      <td>0.0</td>\n",
       "      <td>2018-08-26</td>\n",
       "      <td>40</td>\n",
       "      <td>901.935686</td>\n",
       "    </tr>\n",
       "    <tr>\n",
       "      <th>18</th>\n",
       "      <td>2.0</td>\n",
       "      <td>2019-03-09</td>\n",
       "      <td>52</td>\n",
       "      <td>580.348361</td>\n",
       "    </tr>\n",
       "    <tr>\n",
       "      <th>19</th>\n",
       "      <td>2.0</td>\n",
       "      <td>2018-07-18</td>\n",
       "      <td>52</td>\n",
       "      <td>4.041483</td>\n",
       "    </tr>\n",
       "  </tbody>\n",
       "</table>\n",
       "</div>"
      ],
      "text/plain": [
       "    customer_id        date  shop_id  total_price\n",
       "0           0.0  2018-05-04       40   289.673291\n",
       "1           0.0  2019-01-26       40  1316.898901\n",
       "2           0.0  2018-11-18       42   159.414367\n",
       "3           0.0  2018-05-12       42   808.791649\n",
       "4           0.0  2019-04-20       42  1207.855038\n",
       "5           0.0  2018-11-24       42  1057.752024\n",
       "6           0.0  2018-07-28       15   896.895694\n",
       "7           0.0  2019-06-01       40   341.922336\n",
       "8           0.0  2019-03-13       42    69.240631\n",
       "9           0.0  2018-12-22       40   936.012095\n",
       "10          0.0  2018-06-24       40  1005.693540\n",
       "11          0.0  2019-01-12       15   485.700295\n",
       "12          0.0  2018-11-04       15   434.191410\n",
       "13          0.0  2018-06-08       42   351.165885\n",
       "14          0.0  2019-03-16       15  1131.041328\n",
       "15          0.0  2018-06-20       15   181.441359\n",
       "16          0.0  2018-09-23       15  1227.620941\n",
       "17          0.0  2018-08-26       40   901.935686\n",
       "18          2.0  2019-03-09       52   580.348361\n",
       "19          2.0  2018-07-18       52     4.041483"
      ]
     },
     "execution_count": 41,
     "metadata": {},
     "output_type": "execute_result"
    }
   ],
   "source": [
    "purchases.head(20)"
   ]
  },
  {
   "cell_type": "markdown",
   "id": "2b63a595",
   "metadata": {
    "deletable": false,
    "nbgrader": {
     "cell_type": "markdown",
     "checksum": "52c03088288c7f55d4bec60fd28d22ce",
     "grade": true,
     "grade_id": "cell-1dbb612417aee226",
     "locked": false,
     "points": 1,
     "schema_version": 3,
     "solution": true,
     "task": false
    }
   },
   "source": [
    "We can consider a sample as i.i.d. if:\n",
    "* all items in the sample are taken with the same probability.\n",
    "* all items are independent of each other:  knowledge of the value of one variable doesn't give any information about the value of the other variable."
   ]
  },
  {
   "cell_type": "markdown",
   "id": "70e47383",
   "metadata": {},
   "source": [
    "Can we be sure that all the items are taken with the same probability? Probably no, as we have the same customers (with the same customer_id) come to the store several times. And if they buy something one day, the probability that he/she will come again the next day is lower than the probability that this customer will visit again in a month. So the probabilities are different and there can be some regularity in distribution."
   ]
  },
  {
   "cell_type": "markdown",
   "id": "84deed28",
   "metadata": {},
   "source": [
    "Can we say that all the items are independent? We can not say it about all items. For example, some customers can come to the store together with a friend and would not come if their friend was not going to the store. So we can't really consider total_price for these customers independent, as there would possibly not be one purchase without the other. Moreover, each customer has his/her own preferences, so all purchases of the same customer will have their own distribution. And in our dataset the total price is given not only to the same customers several times, but also to the same stores which we can't consider identical between each other."
   ]
  },
  {
   "cell_type": "markdown",
   "id": "e5d4d311",
   "metadata": {},
   "source": [
    "Therefore, we can't assume that the column total_price in the dataset purchases is an i.i.d. sample from some random variable."
   ]
  },
  {
   "cell_type": "markdown",
   "id": "348b2208",
   "metadata": {
    "deletable": false,
    "nbgrader": {
     "cell_type": "markdown",
     "checksum": "59d083c8df5f526657c99508627eb090",
     "grade": false,
     "grade_id": "cell-74b47122f0488db1",
     "locked": true,
     "schema_version": 3,
     "solution": false,
     "task": false
    }
   },
   "source": [
    "Visualise distribution of variable `age` in the dataset `customers` using appropriate visualization tool.\n"
   ]
  },
  {
   "cell_type": "code",
   "execution_count": 43,
   "id": "fca53f72",
   "metadata": {
    "deletable": false
   },
   "outputs": [
    {
     "data": {
      "text/plain": [
       "(array([ 72., 119., 100., 117.,  92., 115.,  91.,  62.,  43.,  13.]),\n",
       " array([12. , 19.6, 27.2, 34.8, 42.4, 50. , 57.6, 65.2, 72.8, 80.4, 88. ]),\n",
       " <BarContainer object of 10 artists>)"
      ]
     },
     "execution_count": 43,
     "metadata": {},
     "output_type": "execute_result"
    },
    {
     "data": {
      "image/png": "[encoded data removed]",
      "text/plain": [
       "<Figure size 432x288 with 1 Axes>"
      ]
     },
     "metadata": {
      "needs_background": "light"
     },
     "output_type": "display_data"
    }
   ],
   "source": [
    "import matplotlib.pyplot as plt\n",
    "plt.hist(customers['age'])"
   ]
  },
  {
   "cell_type": "markdown",
   "id": "ffd6ec46",
   "metadata": {},
   "source": [
    "Your employer is going to provide two special offers for all registered customers based on the customer age. They want to pick some threshold age, and offer one special program to customers who are younger than this threshold age and another special program to customers who are older than this age. They want to choose the threshold in such a way that the number of potential participants of both programs coincide (or at least be as close to each other as possible). What is the threshold?"
   ]
  },
  {
   "cell_type": "code",
   "execution_count": 44,
   "id": "58e89991",
   "metadata": {
    "deletable": false
   },
   "outputs": [
    {
     "data": {
      "text/plain": [
       "43.0"
      ]
     },
     "execution_count": 44,
     "metadata": {},
     "output_type": "execute_result"
    }
   ],
   "source": [
    "customers['age'].median()"
   ]
  },
  {
   "cell_type": "markdown",
   "id": "a538b39b",
   "metadata": {},
   "source": [
    "Let us visualize how purchases are distributed around a year. For example, it is known that December is a hot month for retail due to Christmas. Will you see it in the data? Are there any other tendencies we will see?"
   ]
  },
  {
   "cell_type": "code",
   "execution_count": 45,
   "id": "65c6dde9",
   "metadata": {},
   "outputs": [],
   "source": [
    "purchases[\"date\"] = pd.to_datetime(purchases[\"date\"])"
   ]
  },
  {
   "cell_type": "markdown",
   "id": "0e72fb08",
   "metadata": {},
   "source": [
    "Let's check that `date` has correct `dtype`:"
   ]
  },
  {
   "cell_type": "code",
   "execution_count": 46,
   "id": "63282db2",
   "metadata": {},
   "outputs": [
    {
     "data": {
      "text/plain": [
       "dtype('<M8[ns]')"
      ]
     },
     "execution_count": 46,
     "metadata": {},
     "output_type": "execute_result"
    }
   ],
   "source": [
    "purchases[\"date\"].dtype"
   ]
  },
  {
   "cell_type": "code",
   "execution_count": 47,
   "id": "c580e547",
   "metadata": {},
   "outputs": [
    {
     "data": {
      "text/plain": [
       "0        4\n",
       "1        5\n",
       "2        6\n",
       "3        5\n",
       "4        5\n",
       "        ..\n",
       "40397    5\n",
       "40398    5\n",
       "40399    2\n",
       "40400    5\n",
       "40401    5\n",
       "Name: date, Length: 40402, dtype: int64"
      ]
     },
     "execution_count": 47,
     "metadata": {},
     "output_type": "execute_result"
    }
   ],
   "source": [
    "purchases[\"date\"].dt.dayofweek"
   ]
  },
  {
   "cell_type": "code",
   "execution_count": 52,
   "id": "6400fc6b",
   "metadata": {
    "deletable": false,
    "nbgrader": {
     "cell_type": "code",
     "checksum": "d06be0bc6d1545e8763b4bc37f0fbbc7",
     "grade": false,
     "grade_id": "cell-fab958f31a3bfdb3",
     "locked": false,
     "schema_version": 3,
     "solution": true,
     "task": false
    }
   },
   "outputs": [
    {
     "data": {
      "text/plain": [
       "<AxesSubplot:xlabel='month'>"
      ]
     },
     "execution_count": 52,
     "metadata": {},
     "output_type": "execute_result"
    },
    {
     "data": {
      "image/png": "[encoded data removed]",
      "text/plain": [
       "<Figure size 432x288 with 1 Axes>"
      ]
     },
     "metadata": {
      "needs_background": "light"
     },
     "output_type": "display_data"
    }
   ],
   "source": [
    "purchases[\"month\"] = purchases[\"date\"].dt.month\n",
    "purchases.groupby(\"month\")['total_price'].count().plot.bar()"
   ]
  },
  {
   "cell_type": "markdown",
   "id": "27c30732",
   "metadata": {},
   "source": [
    "What's wrong with May? Why do we have so many purchases? Are there any unknown holidays in this month? Or it's some other reason? Investigate your data and give an answer."
   ]
  },
  {
   "cell_type": "markdown",
   "id": "eddf5e0f",
   "metadata": {},
   "source": [
    "Let's check purchases made in May:"
   ]
  },
  {
   "cell_type": "code",
   "execution_count": 89,
   "id": "b56e8c0e",
   "metadata": {
    "deletable": false,
    "nbgrader": {
     "cell_type": "code",
     "checksum": "505135e699b1d4277c277a659245214c",
     "grade": true,
     "grade_id": "cell-b1bb61291c8a3eda",
     "locked": false,
     "points": 0,
     "schema_version": 3,
     "solution": true,
     "task": false
    }
   },
   "outputs": [
    {
     "data": {
      "text/html": [
       "<div>\n",
       "<style scoped>\n",
       "    .dataframe tbody tr th:only-of-type {\n",
       "        vertical-align: middle;\n",
       "    }\n",
       "\n",
       "    .dataframe tbody tr th {\n",
       "        vertical-align: top;\n",
       "    }\n",
       "\n",
       "    .dataframe thead th {\n",
       "        text-align: right;\n",
       "    }\n",
       "</style>\n",
       "<table border=\"1\" class=\"dataframe\">\n",
       "  <thead>\n",
       "    <tr style=\"text-align: right;\">\n",
       "      <th></th>\n",
       "      <th>customer_id</th>\n",
       "      <th>date</th>\n",
       "      <th>shop_id</th>\n",
       "      <th>total_price</th>\n",
       "      <th>month</th>\n",
       "    </tr>\n",
       "  </thead>\n",
       "  <tbody>\n",
       "    <tr>\n",
       "      <th>0</th>\n",
       "      <td>0.0</td>\n",
       "      <td>2018-05-04</td>\n",
       "      <td>40</td>\n",
       "      <td>289.673291</td>\n",
       "      <td>5</td>\n",
       "    </tr>\n",
       "    <tr>\n",
       "      <th>3</th>\n",
       "      <td>0.0</td>\n",
       "      <td>2018-05-12</td>\n",
       "      <td>42</td>\n",
       "      <td>808.791649</td>\n",
       "      <td>5</td>\n",
       "    </tr>\n",
       "    <tr>\n",
       "      <th>42</th>\n",
       "      <td>2.0</td>\n",
       "      <td>2018-05-05</td>\n",
       "      <td>51</td>\n",
       "      <td>484.562929</td>\n",
       "      <td>5</td>\n",
       "    </tr>\n",
       "    <tr>\n",
       "      <th>43</th>\n",
       "      <td>2.0</td>\n",
       "      <td>2018-05-23</td>\n",
       "      <td>41</td>\n",
       "      <td>277.083807</td>\n",
       "      <td>5</td>\n",
       "    </tr>\n",
       "    <tr>\n",
       "      <th>48</th>\n",
       "      <td>2.0</td>\n",
       "      <td>2019-05-25</td>\n",
       "      <td>52</td>\n",
       "      <td>665.677759</td>\n",
       "      <td>5</td>\n",
       "    </tr>\n",
       "    <tr>\n",
       "      <th>...</th>\n",
       "      <td>...</td>\n",
       "      <td>...</td>\n",
       "      <td>...</td>\n",
       "      <td>...</td>\n",
       "      <td>...</td>\n",
       "    </tr>\n",
       "    <tr>\n",
       "      <th>40361</th>\n",
       "      <td>NaN</td>\n",
       "      <td>2018-05-03</td>\n",
       "      <td>47</td>\n",
       "      <td>53.580163</td>\n",
       "      <td>5</td>\n",
       "    </tr>\n",
       "    <tr>\n",
       "      <th>40363</th>\n",
       "      <td>NaN</td>\n",
       "      <td>2019-05-01</td>\n",
       "      <td>40</td>\n",
       "      <td>17.739825</td>\n",
       "      <td>5</td>\n",
       "    </tr>\n",
       "    <tr>\n",
       "      <th>40368</th>\n",
       "      <td>NaN</td>\n",
       "      <td>2018-05-19</td>\n",
       "      <td>12</td>\n",
       "      <td>110.528141</td>\n",
       "      <td>5</td>\n",
       "    </tr>\n",
       "    <tr>\n",
       "      <th>40374</th>\n",
       "      <td>NaN</td>\n",
       "      <td>2019-05-03</td>\n",
       "      <td>33</td>\n",
       "      <td>106.411080</td>\n",
       "      <td>5</td>\n",
       "    </tr>\n",
       "    <tr>\n",
       "      <th>40397</th>\n",
       "      <td>NaN</td>\n",
       "      <td>2018-05-05</td>\n",
       "      <td>37</td>\n",
       "      <td>169.086474</td>\n",
       "      <td>5</td>\n",
       "    </tr>\n",
       "  </tbody>\n",
       "</table>\n",
       "<p>6717 rows × 5 columns</p>\n",
       "</div>"
      ],
      "text/plain": [
       "       customer_id       date  shop_id  total_price  month\n",
       "0              0.0 2018-05-04       40   289.673291      5\n",
       "3              0.0 2018-05-12       42   808.791649      5\n",
       "42             2.0 2018-05-05       51   484.562929      5\n",
       "43             2.0 2018-05-23       41   277.083807      5\n",
       "48             2.0 2019-05-25       52   665.677759      5\n",
       "...            ...        ...      ...          ...    ...\n",
       "40361          NaN 2018-05-03       47    53.580163      5\n",
       "40363          NaN 2019-05-01       40    17.739825      5\n",
       "40368          NaN 2018-05-19       12   110.528141      5\n",
       "40374          NaN 2019-05-03       33   106.411080      5\n",
       "40397          NaN 2018-05-05       37   169.086474      5\n",
       "\n",
       "[6717 rows x 5 columns]"
      ]
     },
     "execution_count": 89,
     "metadata": {},
     "output_type": "execute_result"
    }
   ],
   "source": [
    "purchases[purchases['month'] == 5]"
   ]
  },
  {
   "cell_type": "code",
   "execution_count": 90,
   "id": "74bc6c17",
   "metadata": {},
   "outputs": [
    {
     "data": {
      "text/plain": [
       "array(['2018-05-04T00:00:00.000000000', '2018-05-12T00:00:00.000000000',\n",
       "       '2018-05-05T00:00:00.000000000', '2018-05-23T00:00:00.000000000',\n",
       "       '2019-05-25T00:00:00.000000000', '2019-05-08T00:00:00.000000000',\n",
       "       '2019-05-14T00:00:00.000000000', '2018-05-16T00:00:00.000000000',\n",
       "       '2018-05-10T00:00:00.000000000', '2019-05-17T00:00:00.000000000',\n",
       "       '2018-05-03T00:00:00.000000000', '2018-05-26T00:00:00.000000000',\n",
       "       '2018-05-25T00:00:00.000000000', '2019-05-04T00:00:00.000000000',\n",
       "       '2018-05-15T00:00:00.000000000', '2019-05-05T00:00:00.000000000',\n",
       "       '2018-05-17T00:00:00.000000000', '2018-05-29T00:00:00.000000000',\n",
       "       '2019-05-22T00:00:00.000000000', '2018-05-13T00:00:00.000000000',\n",
       "       '2019-05-23T00:00:00.000000000', '2019-05-29T00:00:00.000000000',\n",
       "       '2019-05-02T00:00:00.000000000', '2019-05-18T00:00:00.000000000',\n",
       "       '2019-05-31T00:00:00.000000000', '2018-05-19T00:00:00.000000000',\n",
       "       '2019-05-16T00:00:00.000000000', '2018-05-18T00:00:00.000000000',\n",
       "       '2019-05-19T00:00:00.000000000', '2019-05-28T00:00:00.000000000',\n",
       "       '2019-05-30T00:00:00.000000000', '2019-05-10T00:00:00.000000000',\n",
       "       '2019-05-01T00:00:00.000000000', '2019-05-24T00:00:00.000000000',\n",
       "       '2019-05-11T00:00:00.000000000', '2019-05-15T00:00:00.000000000',\n",
       "       '2019-05-26T00:00:00.000000000', '2019-05-09T00:00:00.000000000',\n",
       "       '2018-05-30T00:00:00.000000000', '2019-05-12T00:00:00.000000000',\n",
       "       '2019-05-03T00:00:00.000000000', '2018-05-11T00:00:00.000000000',\n",
       "       '2018-05-20T00:00:00.000000000', '2018-05-24T00:00:00.000000000',\n",
       "       '2018-05-06T00:00:00.000000000', '2018-05-09T00:00:00.000000000',\n",
       "       '2018-05-31T00:00:00.000000000', '2018-05-27T00:00:00.000000000',\n",
       "       '2019-05-27T00:00:00.000000000', '2018-05-22T00:00:00.000000000',\n",
       "       '2018-05-08T00:00:00.000000000', '2019-05-07T00:00:00.000000000',\n",
       "       '2019-05-21T00:00:00.000000000', '2019-05-20T00:00:00.000000000',\n",
       "       '2018-05-07T00:00:00.000000000'], dtype='datetime64[ns]')"
      ]
     },
     "execution_count": 90,
     "metadata": {},
     "output_type": "execute_result"
    }
   ],
   "source": [
    "purchases[purchases['month'] == 5]['date'].unique()"
   ]
  },
  {
   "cell_type": "markdown",
   "id": "d6f16e4c",
   "metadata": {},
   "source": [
    "We can notice when we choose data for May, we get values for two months: May, 2018 and May, 2019."
   ]
  },
  {
   "cell_type": "markdown",
   "id": "d39dc91d",
   "metadata": {},
   "source": [
    "Let's vizualize the purchases during all the given period:"
   ]
  },
  {
   "cell_type": "code",
   "execution_count": 91,
   "id": "bd15ef48",
   "metadata": {},
   "outputs": [
    {
     "data": {
      "text/plain": [
       "<AxesSubplot:xlabel='year,month'>"
      ]
     },
     "execution_count": 91,
     "metadata": {},
     "output_type": "execute_result"
    },
    {
     "data": {
      "image/png": "[encoded data removed]",
      "text/plain": [
       "<Figure size 432x288 with 1 Axes>"
      ]
     },
     "metadata": {
      "needs_background": "light"
     },
     "output_type": "display_data"
    }
   ],
   "source": [
    "purchases['year'] = purchases['date'].dt.year\n",
    "purchases.groupby([\"year\", \"month\"])['total_price'].count().plot.bar()"
   ]
  },
  {
   "cell_type": "markdown",
   "id": "e22450a3",
   "metadata": {
    "deletable": false,
    "nbgrader": {
     "cell_type": "markdown",
     "checksum": "271b28108fed0af9f56190dd43027412",
     "grade": true,
     "grade_id": "cell-eb9644aaa9d733f7",
     "locked": false,
     "points": 1,
     "schema_version": 3,
     "solution": true,
     "task": false
    }
   },
   "source": [
    "Now we can clearly see that the maximum number of purchases is in December, and not in May. The result we had for May was because it combines May, 2018 and May, 2019. "
   ]
  },
  {
   "cell_type": "markdown",
   "id": "bfb696fc",
   "metadata": {
    "deletable": false,
    "nbgrader": {
     "cell_type": "markdown",
     "checksum": "8add93327e60c07ef01aa8ac9fc193b1",
     "grade": false,
     "grade_id": "cell-e1cde254c63033c6",
     "locked": true,
     "schema_version": 3,
     "solution": false,
     "task": false
    }
   },
   "source": [
    "We see that people go to shop more often in December. But do they spend more per each visit? Let us draw a bar plot that shows the average purchase total price per month of year."
   ]
  },
  {
   "cell_type": "code",
   "execution_count": 53,
   "id": "251fc076",
   "metadata": {
    "deletable": false
   },
   "outputs": [
    {
     "data": {
      "text/plain": [
       "<AxesSubplot:xlabel='month'>"
      ]
     },
     "execution_count": 53,
     "metadata": {},
     "output_type": "execute_result"
    },
    {
     "data": {
      "image/png": "[encoded data removed]",
      "text/plain": [
       "<Figure size 432x288 with 1 Axes>"
      ]
     },
     "metadata": {
      "needs_background": "light"
     },
     "output_type": "display_data"
    }
   ],
   "source": [
    "purchases.groupby(\"month\")['total_price'].mean().plot.bar()"
   ]
  },
  {
   "cell_type": "markdown",
   "id": "d961812c",
   "metadata": {},
   "source": [
    "Okay, we see that there is a difference between December's mean purchase price and other month's. But we also see that the average price is different in different months (not including December), probably due to some random factors. Is it possible that December behaviour is just a result of fluke? To answer this question, let us compare two months, for example, December and November, in a statistically rigorous way."
   ]
  },
  {
   "cell_type": "code",
   "execution_count": 54,
   "id": "84e5c493",
   "metadata": {
    "deletable": false
   },
   "outputs": [],
   "source": [
    "purchases_pivot = purchases.pivot_table(values='total_price', index='shop_id', columns='month', aggfunc='mean')"
   ]
  },
  {
   "cell_type": "code",
   "execution_count": 55,
   "id": "1e44c6f2",
   "metadata": {},
   "outputs": [],
   "source": [
    "november = purchases_pivot[11].to_list()\n",
    "december = purchases_pivot[12].to_list()"
   ]
  },
  {
   "cell_type": "code",
   "execution_count": 56,
   "id": "637dacb1",
   "metadata": {},
   "outputs": [
    {
     "data": {
      "text/plain": [
       "Ttest_relResult(statistic=12.130046456676514, pvalue=2.8875117936923646e-19)"
      ]
     },
     "execution_count": 56,
     "metadata": {},
     "output_type": "execute_result"
    }
   ],
   "source": [
    "from scipy.stats import ttest_rel\n",
    "ttest_rel(december, november)"
   ]
  },
  {
   "cell_type": "markdown",
   "id": "81ff95b8",
   "metadata": {},
   "source": [
    "Now let us investigate customer behaviour. First of all we are interested in the relation between customers' age and their spendings per each purchase."
   ]
  },
  {
   "cell_type": "code",
   "execution_count": 57,
   "id": "68423746",
   "metadata": {
    "deletable": false,
    "nbgrader": {
     "cell_type": "code",
     "checksum": "abf7a39dca4346110f1ce21ee7f1d05b",
     "grade": false,
     "grade_id": "cell-def585989383682a",
     "locked": false,
     "schema_version": 3,
     "solution": true,
     "task": false
    }
   },
   "outputs": [],
   "source": [
    "purchases_c = pd.merge(purchases, \n",
    "                       customers, \n",
    "                       left_on='customer_id', \n",
    "                       right_on='customer id', \n",
    "                       how = 'inner',\n",
    "                      ).drop('customer id', axis=1)"
   ]
  },
  {
   "cell_type": "code",
   "execution_count": 59,
   "id": "a6c429be",
   "metadata": {},
   "outputs": [
    {
     "data": {
      "text/html": [
       "<div>\n",
       "<style scoped>\n",
       "    .dataframe tbody tr th:only-of-type {\n",
       "        vertical-align: middle;\n",
       "    }\n",
       "\n",
       "    .dataframe tbody tr th {\n",
       "        vertical-align: top;\n",
       "    }\n",
       "\n",
       "    .dataframe thead th {\n",
       "        text-align: right;\n",
       "    }\n",
       "</style>\n",
       "<table border=\"1\" class=\"dataframe\">\n",
       "  <thead>\n",
       "    <tr style=\"text-align: right;\">\n",
       "      <th></th>\n",
       "      <th>customer_id</th>\n",
       "      <th>date</th>\n",
       "      <th>shop_id</th>\n",
       "      <th>total_price</th>\n",
       "      <th>month</th>\n",
       "      <th>age</th>\n",
       "    </tr>\n",
       "  </thead>\n",
       "  <tbody>\n",
       "    <tr>\n",
       "      <th>0</th>\n",
       "      <td>0.0</td>\n",
       "      <td>2018-05-04</td>\n",
       "      <td>40</td>\n",
       "      <td>289.673291</td>\n",
       "      <td>5</td>\n",
       "      <td>38.0</td>\n",
       "    </tr>\n",
       "    <tr>\n",
       "      <th>1</th>\n",
       "      <td>0.0</td>\n",
       "      <td>2019-01-26</td>\n",
       "      <td>40</td>\n",
       "      <td>1316.898901</td>\n",
       "      <td>1</td>\n",
       "      <td>38.0</td>\n",
       "    </tr>\n",
       "    <tr>\n",
       "      <th>2</th>\n",
       "      <td>0.0</td>\n",
       "      <td>2018-11-18</td>\n",
       "      <td>42</td>\n",
       "      <td>159.414367</td>\n",
       "      <td>11</td>\n",
       "      <td>38.0</td>\n",
       "    </tr>\n",
       "    <tr>\n",
       "      <th>3</th>\n",
       "      <td>0.0</td>\n",
       "      <td>2018-05-12</td>\n",
       "      <td>42</td>\n",
       "      <td>808.791649</td>\n",
       "      <td>5</td>\n",
       "      <td>38.0</td>\n",
       "    </tr>\n",
       "    <tr>\n",
       "      <th>4</th>\n",
       "      <td>0.0</td>\n",
       "      <td>2019-04-20</td>\n",
       "      <td>42</td>\n",
       "      <td>1207.855038</td>\n",
       "      <td>4</td>\n",
       "      <td>38.0</td>\n",
       "    </tr>\n",
       "    <tr>\n",
       "      <th>...</th>\n",
       "      <td>...</td>\n",
       "      <td>...</td>\n",
       "      <td>...</td>\n",
       "      <td>...</td>\n",
       "      <td>...</td>\n",
       "      <td>...</td>\n",
       "    </tr>\n",
       "    <tr>\n",
       "      <th>28794</th>\n",
       "      <td>1212.0</td>\n",
       "      <td>2018-11-08</td>\n",
       "      <td>60</td>\n",
       "      <td>46.653544</td>\n",
       "      <td>11</td>\n",
       "      <td>24.0</td>\n",
       "    </tr>\n",
       "    <tr>\n",
       "      <th>28795</th>\n",
       "      <td>1212.0</td>\n",
       "      <td>2018-07-20</td>\n",
       "      <td>60</td>\n",
       "      <td>50.592132</td>\n",
       "      <td>7</td>\n",
       "      <td>24.0</td>\n",
       "    </tr>\n",
       "    <tr>\n",
       "      <th>28796</th>\n",
       "      <td>1212.0</td>\n",
       "      <td>2019-04-18</td>\n",
       "      <td>15</td>\n",
       "      <td>95.459705</td>\n",
       "      <td>4</td>\n",
       "      <td>24.0</td>\n",
       "    </tr>\n",
       "    <tr>\n",
       "      <th>28797</th>\n",
       "      <td>1212.0</td>\n",
       "      <td>2019-02-14</td>\n",
       "      <td>60</td>\n",
       "      <td>69.968788</td>\n",
       "      <td>2</td>\n",
       "      <td>24.0</td>\n",
       "    </tr>\n",
       "    <tr>\n",
       "      <th>28798</th>\n",
       "      <td>1212.0</td>\n",
       "      <td>2018-07-13</td>\n",
       "      <td>60</td>\n",
       "      <td>129.335559</td>\n",
       "      <td>7</td>\n",
       "      <td>24.0</td>\n",
       "    </tr>\n",
       "  </tbody>\n",
       "</table>\n",
       "<p>28799 rows × 6 columns</p>\n",
       "</div>"
      ],
      "text/plain": [
       "       customer_id       date  shop_id  total_price  month   age\n",
       "0              0.0 2018-05-04       40   289.673291      5  38.0\n",
       "1              0.0 2019-01-26       40  1316.898901      1  38.0\n",
       "2              0.0 2018-11-18       42   159.414367     11  38.0\n",
       "3              0.0 2018-05-12       42   808.791649      5  38.0\n",
       "4              0.0 2019-04-20       42  1207.855038      4  38.0\n",
       "...            ...        ...      ...          ...    ...   ...\n",
       "28794       1212.0 2018-11-08       60    46.653544     11  24.0\n",
       "28795       1212.0 2018-07-20       60    50.592132      7  24.0\n",
       "28796       1212.0 2019-04-18       15    95.459705      4  24.0\n",
       "28797       1212.0 2019-02-14       60    69.968788      2  24.0\n",
       "28798       1212.0 2018-07-13       60   129.335559      7  24.0\n",
       "\n",
       "[28799 rows x 6 columns]"
      ]
     },
     "execution_count": 59,
     "metadata": {},
     "output_type": "execute_result"
    }
   ],
   "source": [
    "purchases_c"
   ]
  },
  {
   "cell_type": "markdown",
   "id": "dcbb0858",
   "metadata": {
    "deletable": false,
    "nbgrader": {
     "cell_type": "markdown",
     "checksum": "042b595cac81946a0f0c353720271f0f",
     "grade": false,
     "grade_id": "cell-9b665eced0f53414",
     "locked": true,
     "schema_version": 3,
     "solution": false,
     "task": false
    }
   },
   "source": [
    "To visualize the relation between customer's age and their spendings, we have to transform our table in such a way that one observation (row) corresponds to one customer.\n"
   ]
  },
  {
   "cell_type": "code",
   "execution_count": 66,
   "id": "d65a057b",
   "metadata": {
    "deletable": false,
    "nbgrader": {
     "cell_type": "code",
     "checksum": "b47c7611a58e4be2be36917918eae735",
     "grade": false,
     "grade_id": "cell-e76268ef19a434d2",
     "locked": false,
     "schema_version": 3,
     "solution": true,
     "task": false
    }
   },
   "outputs": [],
   "source": [
    "purchases_c_mean = purchases_c.groupby('customer_id')[['total_price', 'age']].mean().round(decimals=13)"
   ]
  },
  {
   "cell_type": "code",
   "execution_count": 68,
   "id": "7729114f",
   "metadata": {
    "deletable": false,
    "nbgrader": {
     "cell_type": "code",
     "checksum": "f0afe28e37a50a0a710fe4cd37d21568",
     "grade": false,
     "grade_id": "cell-74bf2c586a384ceb",
     "locked": false,
     "schema_version": 3,
     "solution": true,
     "task": false
    }
   },
   "outputs": [
    {
     "data": {
      "text/plain": [
       "Text(0, 0.5, 'Average total_price')"
      ]
     },
     "execution_count": 68,
     "metadata": {},
     "output_type": "execute_result"
    },
    {
     "data": {
      "image/png": "[encoded data removed]",
      "text/plain": [
       "<Figure size 1080x576 with 1 Axes>"
      ]
     },
     "metadata": {
      "needs_background": "light"
     },
     "output_type": "display_data"
    }
   ],
   "source": [
    "plt.figure(figsize=(15,8))\n",
    "plt.scatter('age', 'total_price', data=purchases_c_mean)\n",
    "plt.title(\"Relation between customer's age and average total_price\")\n",
    "plt.xlabel('Age')\n",
    "plt.ylabel('Average total_price')"
   ]
  },
  {
   "cell_type": "markdown",
   "id": "c3800da6",
   "metadata": {},
   "source": [
    "Pearson's correlation coefficient between age and total price."
   ]
  },
  {
   "cell_type": "code",
   "execution_count": 69,
   "id": "0a46ecc0",
   "metadata": {
    "deletable": false,
    "nbgrader": {
     "cell_type": "code",
     "checksum": "b11e48fed0bd437a7f13cf6d44e474bb",
     "grade": false,
     "grade_id": "cell-b49d12358f261cf2",
     "locked": false,
     "schema_version": 3,
     "solution": true,
     "task": false
    }
   },
   "outputs": [
    {
     "data": {
      "text/html": [
       "<div>\n",
       "<style scoped>\n",
       "    .dataframe tbody tr th:only-of-type {\n",
       "        vertical-align: middle;\n",
       "    }\n",
       "\n",
       "    .dataframe tbody tr th {\n",
       "        vertical-align: top;\n",
       "    }\n",
       "\n",
       "    .dataframe thead th {\n",
       "        text-align: right;\n",
       "    }\n",
       "</style>\n",
       "<table border=\"1\" class=\"dataframe\">\n",
       "  <thead>\n",
       "    <tr style=\"text-align: right;\">\n",
       "      <th></th>\n",
       "      <th>total_price</th>\n",
       "      <th>age</th>\n",
       "    </tr>\n",
       "  </thead>\n",
       "  <tbody>\n",
       "    <tr>\n",
       "      <th>total_price</th>\n",
       "      <td>1.000000</td>\n",
       "      <td>0.165395</td>\n",
       "    </tr>\n",
       "    <tr>\n",
       "      <th>age</th>\n",
       "      <td>0.165395</td>\n",
       "      <td>1.000000</td>\n",
       "    </tr>\n",
       "  </tbody>\n",
       "</table>\n",
       "</div>"
      ],
      "text/plain": [
       "             total_price       age\n",
       "total_price     1.000000  0.165395\n",
       "age             0.165395  1.000000"
      ]
     },
     "execution_count": 69,
     "metadata": {},
     "output_type": "execute_result"
    }
   ],
   "source": [
    "purchases_c_mean.corr()"
   ]
  },
  {
   "cell_type": "markdown",
   "id": "e2025916",
   "metadata": {},
   "source": [
    "We found correlation in the data present on the previous step and made some conclusions based on this data. However, we have to make sure that we can generalize our conclusion to the corresponding population. "
   ]
  },
  {
   "cell_type": "code",
   "execution_count": 70,
   "id": "7dc5fc0e",
   "metadata": {
    "deletable": false,
    "nbgrader": {
     "cell_type": "code",
     "checksum": "0f81fc43f64af9bac8d795be5cc662ce",
     "grade": false,
     "grade_id": "cell-952ef9e07ecc7e07",
     "locked": false,
     "schema_version": 3,
     "solution": true,
     "task": false
    }
   },
   "outputs": [
    {
     "data": {
      "text/plain": [
       "(0.165395081207719, 1.811078910330637e-06)"
      ]
     },
     "execution_count": 70,
     "metadata": {},
     "output_type": "execute_result"
    }
   ],
   "source": [
    "from scipy import stats\n",
    "stats.pearsonr(purchases_c_mean.dropna()['total_price'], purchases_c_mean.dropna()['age'])"
   ]
  },
  {
   "cell_type": "markdown",
   "id": "74a231e9",
   "metadata": {},
   "source": [
    "Now we are going to do the main investigation. We want to understand how special offers in our shops affect customers' behaviour. To do it, we have to identify those purchases that are made during special offers."
   ]
  },
  {
   "cell_type": "code",
   "execution_count": 71,
   "id": "66c62908",
   "metadata": {
    "deletable": false,
    "nbgrader": {
     "cell_type": "code",
     "checksum": "cda72a732691ee3528a79d4c9eb4e809",
     "grade": false,
     "grade_id": "cell-3202f7f2e9be6c36",
     "locked": false,
     "schema_version": 3,
     "solution": true,
     "task": false
    }
   },
   "outputs": [],
   "source": [
    "full_df_preliminary = purchases_c.join(shops.set_index(['shop_id']), on='shop_id', how='left')"
   ]
  },
  {
   "cell_type": "code",
   "execution_count": 73,
   "id": "968c0c51",
   "metadata": {
    "deletable": false,
    "nbgrader": {
     "cell_type": "code",
     "checksum": "a80817f7bdfdd9e938890d1bc2052c7a",
     "grade": false,
     "grade_id": "cell-8414788809192d4e",
     "locked": false,
     "schema_version": 3,
     "solution": true,
     "task": false
    }
   },
   "outputs": [],
   "source": [
    "full_df = purchases_c.reset_index().join(shops.set_index(['shop_id']), on='shop_id', how='left')"
   ]
  },
  {
   "cell_type": "markdown",
   "id": "bfcd65fb",
   "metadata": {},
   "source": [
    "Now we need to check for each purchase, did it happen during any of the special offers or not.\n"
   ]
  },
  {
   "cell_type": "code",
   "execution_count": 75,
   "id": "d30311dd",
   "metadata": {
    "deletable": false,
    "nbgrader": {
     "cell_type": "code",
     "checksum": "dab09ca4900bbd3158d262c74fe1734e",
     "grade": false,
     "grade_id": "cell-72280e238346d5dc",
     "locked": false,
     "schema_version": 3,
     "solution": true,
     "task": false
    }
   },
   "outputs": [],
   "source": [
    "full_df_offer = full_df.copy()\n",
    "full_df_offer['offer'] = (full_df['date'] >= full_df['offer_begin']) & (full_df['date'] <= full_df['offer_end'])"
   ]
  },
  {
   "cell_type": "markdown",
   "id": "2a2d0fe6",
   "metadata": {},
   "source": [
    "Now we have a table that contains information on whether a particular purchase happened during a particular special offer. What we need is a new table that contains information on whether a particular purchase happened during *any* relevant special offer."
   ]
  },
  {
   "cell_type": "code",
   "execution_count": 77,
   "id": "b601d6b3",
   "metadata": {},
   "outputs": [
    {
     "data": {
      "text/html": [
       "<div>\n",
       "<style scoped>\n",
       "    .dataframe tbody tr th:only-of-type {\n",
       "        vertical-align: middle;\n",
       "    }\n",
       "\n",
       "    .dataframe tbody tr th {\n",
       "        vertical-align: top;\n",
       "    }\n",
       "\n",
       "    .dataframe thead th {\n",
       "        text-align: right;\n",
       "    }\n",
       "</style>\n",
       "<table border=\"1\" class=\"dataframe\">\n",
       "  <thead>\n",
       "    <tr style=\"text-align: right;\">\n",
       "      <th></th>\n",
       "      <th>customer_id</th>\n",
       "      <th>date</th>\n",
       "      <th>shop_id</th>\n",
       "      <th>total_price</th>\n",
       "      <th>month</th>\n",
       "      <th>age</th>\n",
       "      <th>offer</th>\n",
       "    </tr>\n",
       "    <tr>\n",
       "      <th>index</th>\n",
       "      <th></th>\n",
       "      <th></th>\n",
       "      <th></th>\n",
       "      <th></th>\n",
       "      <th></th>\n",
       "      <th></th>\n",
       "      <th></th>\n",
       "    </tr>\n",
       "  </thead>\n",
       "  <tbody>\n",
       "    <tr>\n",
       "      <th>0</th>\n",
       "      <td>0.0</td>\n",
       "      <td>2018-05-04</td>\n",
       "      <td>40</td>\n",
       "      <td>289.673291</td>\n",
       "      <td>5</td>\n",
       "      <td>38.0</td>\n",
       "      <td>False</td>\n",
       "    </tr>\n",
       "    <tr>\n",
       "      <th>1</th>\n",
       "      <td>0.0</td>\n",
       "      <td>2019-01-26</td>\n",
       "      <td>40</td>\n",
       "      <td>1316.898901</td>\n",
       "      <td>1</td>\n",
       "      <td>38.0</td>\n",
       "      <td>False</td>\n",
       "    </tr>\n",
       "    <tr>\n",
       "      <th>2</th>\n",
       "      <td>0.0</td>\n",
       "      <td>2018-11-18</td>\n",
       "      <td>42</td>\n",
       "      <td>159.414367</td>\n",
       "      <td>11</td>\n",
       "      <td>38.0</td>\n",
       "      <td>False</td>\n",
       "    </tr>\n",
       "    <tr>\n",
       "      <th>3</th>\n",
       "      <td>0.0</td>\n",
       "      <td>2018-05-12</td>\n",
       "      <td>42</td>\n",
       "      <td>808.791649</td>\n",
       "      <td>5</td>\n",
       "      <td>38.0</td>\n",
       "      <td>False</td>\n",
       "    </tr>\n",
       "    <tr>\n",
       "      <th>4</th>\n",
       "      <td>0.0</td>\n",
       "      <td>2019-04-20</td>\n",
       "      <td>42</td>\n",
       "      <td>1207.855038</td>\n",
       "      <td>4</td>\n",
       "      <td>38.0</td>\n",
       "      <td>False</td>\n",
       "    </tr>\n",
       "    <tr>\n",
       "      <th>...</th>\n",
       "      <td>...</td>\n",
       "      <td>...</td>\n",
       "      <td>...</td>\n",
       "      <td>...</td>\n",
       "      <td>...</td>\n",
       "      <td>...</td>\n",
       "      <td>...</td>\n",
       "    </tr>\n",
       "    <tr>\n",
       "      <th>28794</th>\n",
       "      <td>1212.0</td>\n",
       "      <td>2018-11-08</td>\n",
       "      <td>60</td>\n",
       "      <td>46.653544</td>\n",
       "      <td>11</td>\n",
       "      <td>24.0</td>\n",
       "      <td>False</td>\n",
       "    </tr>\n",
       "    <tr>\n",
       "      <th>28795</th>\n",
       "      <td>1212.0</td>\n",
       "      <td>2018-07-20</td>\n",
       "      <td>60</td>\n",
       "      <td>50.592132</td>\n",
       "      <td>7</td>\n",
       "      <td>24.0</td>\n",
       "      <td>True</td>\n",
       "    </tr>\n",
       "    <tr>\n",
       "      <th>28796</th>\n",
       "      <td>1212.0</td>\n",
       "      <td>2019-04-18</td>\n",
       "      <td>15</td>\n",
       "      <td>95.459705</td>\n",
       "      <td>4</td>\n",
       "      <td>24.0</td>\n",
       "      <td>False</td>\n",
       "    </tr>\n",
       "    <tr>\n",
       "      <th>28797</th>\n",
       "      <td>1212.0</td>\n",
       "      <td>2019-02-14</td>\n",
       "      <td>60</td>\n",
       "      <td>69.968788</td>\n",
       "      <td>2</td>\n",
       "      <td>24.0</td>\n",
       "      <td>False</td>\n",
       "    </tr>\n",
       "    <tr>\n",
       "      <th>28798</th>\n",
       "      <td>1212.0</td>\n",
       "      <td>2018-07-13</td>\n",
       "      <td>60</td>\n",
       "      <td>129.335559</td>\n",
       "      <td>7</td>\n",
       "      <td>24.0</td>\n",
       "      <td>True</td>\n",
       "    </tr>\n",
       "  </tbody>\n",
       "</table>\n",
       "<p>28799 rows × 7 columns</p>\n",
       "</div>"
      ],
      "text/plain": [
       "       customer_id       date  shop_id  total_price  month   age  offer\n",
       "index                                                                  \n",
       "0              0.0 2018-05-04       40   289.673291      5  38.0  False\n",
       "1              0.0 2019-01-26       40  1316.898901      1  38.0  False\n",
       "2              0.0 2018-11-18       42   159.414367     11  38.0  False\n",
       "3              0.0 2018-05-12       42   808.791649      5  38.0  False\n",
       "4              0.0 2019-04-20       42  1207.855038      4  38.0  False\n",
       "...            ...        ...      ...          ...    ...   ...    ...\n",
       "28794       1212.0 2018-11-08       60    46.653544     11  24.0  False\n",
       "28795       1212.0 2018-07-20       60    50.592132      7  24.0   True\n",
       "28796       1212.0 2019-04-18       15    95.459705      4  24.0  False\n",
       "28797       1212.0 2019-02-14       60    69.968788      2  24.0  False\n",
       "28798       1212.0 2018-07-13       60   129.335559      7  24.0   True\n",
       "\n",
       "[28799 rows x 7 columns]"
      ]
     },
     "execution_count": 77,
     "metadata": {},
     "output_type": "execute_result"
    }
   ],
   "source": [
    "purchases_offer = full_df_offer.groupby(\"index\").agg(\n",
    "    {\n",
    "        \"customer_id\": \"first\",\n",
    "        \"date\": \"first\",\n",
    "        \"shop_id\": \"first\",\n",
    "        \"total_price\": \"first\",\n",
    "        \"month\": \"first\",\n",
    "        \"age\": \"first\",\n",
    "        \"offer\": \"any\",\n",
    "    }\n",
    ")\n",
    "purchases_offer"
   ]
  },
  {
   "cell_type": "markdown",
   "id": "90e699dd",
   "metadata": {},
   "source": [
    "Do people tend to spend more money when they make a purchase during a special offer? Let's check it!"
   ]
  },
  {
   "cell_type": "code",
   "execution_count": 78,
   "id": "e1314ed2",
   "metadata": {
    "deletable": false,
    "nbgrader": {
     "cell_type": "code",
     "checksum": "0f9347b258c3a90a7b22ef3831687ff5",
     "grade": false,
     "grade_id": "cell-ba9d2b1c164cb3e5",
     "locked": false,
     "schema_version": 3,
     "solution": true,
     "task": false
    }
   },
   "outputs": [
    {
     "data": {
      "text/html": [
       "<div>\n",
       "<style scoped>\n",
       "    .dataframe tbody tr th:only-of-type {\n",
       "        vertical-align: middle;\n",
       "    }\n",
       "\n",
       "    .dataframe tbody tr th {\n",
       "        vertical-align: top;\n",
       "    }\n",
       "\n",
       "    .dataframe thead th {\n",
       "        text-align: right;\n",
       "    }\n",
       "</style>\n",
       "<table border=\"1\" class=\"dataframe\">\n",
       "  <thead>\n",
       "    <tr style=\"text-align: right;\">\n",
       "      <th></th>\n",
       "      <th>total_price_x</th>\n",
       "      <th>total_price_y</th>\n",
       "    </tr>\n",
       "    <tr>\n",
       "      <th>customer_id</th>\n",
       "      <th></th>\n",
       "      <th></th>\n",
       "    </tr>\n",
       "  </thead>\n",
       "  <tbody>\n",
       "    <tr>\n",
       "      <th>0.0</th>\n",
       "      <td>901.935686</td>\n",
       "      <td>685.331168</td>\n",
       "    </tr>\n",
       "    <tr>\n",
       "      <th>2.0</th>\n",
       "      <td>318.049544</td>\n",
       "      <td>389.216152</td>\n",
       "    </tr>\n",
       "    <tr>\n",
       "      <th>3.0</th>\n",
       "      <td>551.356873</td>\n",
       "      <td>311.611398</td>\n",
       "    </tr>\n",
       "    <tr>\n",
       "      <th>4.0</th>\n",
       "      <td>325.092632</td>\n",
       "      <td>347.161530</td>\n",
       "    </tr>\n",
       "    <tr>\n",
       "      <th>5.0</th>\n",
       "      <td>279.079141</td>\n",
       "      <td>487.628759</td>\n",
       "    </tr>\n",
       "    <tr>\n",
       "      <th>...</th>\n",
       "      <td>...</td>\n",
       "      <td>...</td>\n",
       "    </tr>\n",
       "    <tr>\n",
       "      <th>1206.0</th>\n",
       "      <td>245.374937</td>\n",
       "      <td>240.058252</td>\n",
       "    </tr>\n",
       "    <tr>\n",
       "      <th>1207.0</th>\n",
       "      <td>941.025534</td>\n",
       "      <td>413.785779</td>\n",
       "    </tr>\n",
       "    <tr>\n",
       "      <th>1208.0</th>\n",
       "      <td>683.695119</td>\n",
       "      <td>542.108836</td>\n",
       "    </tr>\n",
       "    <tr>\n",
       "      <th>1210.0</th>\n",
       "      <td>397.319089</td>\n",
       "      <td>265.196887</td>\n",
       "    </tr>\n",
       "    <tr>\n",
       "      <th>1212.0</th>\n",
       "      <td>89.963846</td>\n",
       "      <td>209.140997</td>\n",
       "    </tr>\n",
       "  </tbody>\n",
       "</table>\n",
       "<p>735 rows × 2 columns</p>\n",
       "</div>"
      ],
      "text/plain": [
       "             total_price_x  total_price_y\n",
       "customer_id                              \n",
       "0.0             901.935686     685.331168\n",
       "2.0             318.049544     389.216152\n",
       "3.0             551.356873     311.611398\n",
       "4.0             325.092632     347.161530\n",
       "5.0             279.079141     487.628759\n",
       "...                    ...            ...\n",
       "1206.0          245.374937     240.058252\n",
       "1207.0          941.025534     413.785779\n",
       "1208.0          683.695119     542.108836\n",
       "1210.0          397.319089     265.196887\n",
       "1212.0           89.963846     209.140997\n",
       "\n",
       "[735 rows x 2 columns]"
      ]
     },
     "execution_count": 78,
     "metadata": {},
     "output_type": "execute_result"
    }
   ],
   "source": [
    "purchases_offer_no_dec = purchases_offer[purchases_offer.month != 12]\n",
    "\n",
    "purchases_with_offer = purchases_offer_no_dec[purchases_offer_no_dec['offer'] == True]\n",
    "purchases_with_offer = purchases_with_offer.groupby('customer_id')['total_price'].mean()\n",
    "\n",
    "purchases_no_offer = purchases_offer_no_dec[purchases_offer_no_dec['offer'] == False]\n",
    "purchases_no_offer = purchases_no_offer.groupby('customer_id')['total_price'].mean()\n",
    "\n",
    "purchases_offers = pd.merge(purchases_with_offer, purchases_no_offer, left_index=True, right_index=True, how = 'inner')\n",
    "\n",
    "purchases_offers"
   ]
  },
  {
   "cell_type": "code",
   "execution_count": 79,
   "id": "99de0ccc",
   "metadata": {},
   "outputs": [
    {
     "data": {
      "text/plain": [
       "Ttest_relResult(statistic=16.682645056499567, pvalue=3.221672499502215e-53)"
      ]
     },
     "execution_count": 79,
     "metadata": {},
     "output_type": "execute_result"
    }
   ],
   "source": [
    "ttest_rel(purchases_offers['total_price_x'], purchases_offers['total_price_y'])"
   ]
  }
 ],
 "metadata": {
  "kernelspec": {
   "display_name": "Python 3 (ipykernel)",
   "language": "python",
   "name": "python3"
  },
  "language_info": {
   "codemirror_mode": {
    "name": "ipython",
    "version": 3
   },
   "file_extension": ".py",
   "mimetype": "text/x-python",
   "name": "python",
   "nbconvert_exporter": "python",
   "pygments_lexer": "ipython3",
   "version": "3.8.5"
  }
 },
 "nbformat": 4,
 "nbformat_minor": 5
}
